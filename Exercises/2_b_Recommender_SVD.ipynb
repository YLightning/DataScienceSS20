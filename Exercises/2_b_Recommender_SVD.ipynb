{
 "cells": [
  {
   "cell_type": "markdown",
   "metadata": {},
   "source": [
    "# Exercise 4: recommender System"
   ]
  },
  {
   "cell_type": "code",
   "execution_count": 1,
   "metadata": {
    "slideshow": {
     "slide_type": "skip"
    }
   },
   "outputs": [
    {
     "name": "stdout",
     "output_type": "stream",
     "text": [
      "running in Colab: False\n"
     ]
    }
   ],
   "source": [
    "#check if notebook runs in colab\n",
    "import sys\n",
    "IN_COLAB = 'google.colab' in sys.modules\n",
    "print('running in Colab:',IN_COLAB)\n",
    "path='..'\n",
    "if IN_COLAB:\n",
    "  #in colab, we need to clone the data from the repo\n",
    "  !git clone https://github.com/keuperj/DataScienceSS20.git\n",
    "  path='DataScienceSS20'"
   ]
  },
  {
   "cell_type": "markdown",
   "metadata": {},
   "source": [
    "## Code from the lecture"
   ]
  },
  {
   "cell_type": "code",
   "execution_count": 2,
   "metadata": {},
   "outputs": [],
   "source": [
    "#read data to DataFrames\n",
    "import pandas as pd\n",
    "import numpy as np\n",
    "%matplotlib inline\n",
    "import matplotlib.pyplot as plt\n",
    "\n",
    "u_cols = ['user_id', 'age', 'sex', 'occupation', 'zip_code']\n",
    "users = pd.read_csv(path+'/DATA/movielens100k/u.user', sep='|', names=u_cols, encoding = \"ISO-8859-1\")\n",
    "\n",
    "r_cols = ['user_id', 'movie_id', 'rating', 'timestamp']\n",
    "ratings = pd.read_csv(path+'/DATA/movielens100k/u.data', sep='\\t', names=r_cols, encoding = \"ISO-8859-1\")\n",
    "\n",
    "m_cols=['movie_id', 'title', 'release date', 'video release date', 'IMDb_URL', 'unknown', 'Action', 'Adventure', 'Animation', 'Childrens', 'Comedy', 'Crime', 'Documentary', 'Drama', 'Fantasy', 'Film-Noir', 'Horror', 'Musical', 'Mystery', 'Romance', 'Sci-Fi', 'Thriller', 'War', 'Western']\n",
    "movies = pd.read_csv(path+'/DATA/movielens100k/u.item', sep='|', names=m_cols ,encoding = \"ISO-8859-1\" )"
   ]
  },
  {
   "cell_type": "code",
   "execution_count": 3,
   "metadata": {},
   "outputs": [],
   "source": [
    "def getTopN(movie_id,D, N=5):\n",
    "    return D[movie_id,:].argsort()[-N:]\n",
    "\n",
    "def getIDbyName(name):\n",
    "    if np.size(movies.movie_id[movies.title.str.contains(name)]) > 0:\n",
    "        m = int(movies.movie_id[movies.title.str.contains(name)][:1]), str(movies.title[movies.title.str.contains(name)][:1])\n",
    "        return m[0]-1\n",
    "    else:\n",
    "        return -1\n",
    "    \n",
    "def getNameByID(IDs):\n",
    "    res=movies.iloc[IDs]\n",
    "    return res.title\n",
    "\n",
    "def CII(title):\n",
    "    if getIDbyName(title) > 0:\n",
    "        print (\"recommending movies for: '\" + str(getNameByID(getIDbyName(title)))+\"'\")\n",
    "        return getNameByID(getTopN(getIDbyName(title)))[::-1]\n",
    "    else:\n",
    "        print (\"no movie title containing \" + str(title) + \"found...\")\n",
    "        \n",
    "def Score_byID(ID, D, Test):\n",
    "    #print (\"Hit Scores for: \", getNameByID(ID))\n",
    "    res_id = getTopN(ID,D)[::-1]\n",
    "    res_title = getNameByID(getTopN(ID,D))[::-1]\n",
    "    res_score = Test[res_id]\n",
    "    return res_id, res_title, res_score, np.mean(res_score)\n",
    "    \n",
    "#compute scores for all test users\n",
    "def test_Score(D_train, R_test):\n",
    "    userScores=[]\n",
    "    for i in range(R_test.shape[0]):\n",
    "        userScore=0\n",
    "        userTop = np.argsort(R_test[i])[-5:]\n",
    "        for e in userTop:\n",
    "            res_id, res_title, res_score, av_score = Score_byID(e,D_train, R_test[i])\n",
    "            userScore+=av_score\n",
    "        userScores.append(userScore/(5))\n",
    "    return userScores"
   ]
  },
  {
   "cell_type": "code",
   "execution_count": 14,
   "metadata": {},
   "outputs": [],
   "source": [
    "#gerate matrix (this can be done more efficiently!)\n",
    "R=np.zeros((np.shape(users)[0],np.shape(movies)[0]))\n",
    "#Geht alle ratings durch. Und füllt die Matrix an der Stelle [User_id][0]= Yakup und [movie_id][0]= Pulp Fiction mit dem entsprechendem Rating Was Yakup gab.\n",
    "for i in range(np.shape(ratings)[0]):\n",
    "    R[ratings['user_id'][i]-1, ratings['movie_id'][i]-1] = ratings['rating'][i]"
   ]
  },
  {
   "cell_type": "code",
   "execution_count": 15,
   "metadata": {},
   "outputs": [],
   "source": [
    "import scipy.spatial\n",
    "D=scipy.spatial.distance.squareform(scipy.spatial.distance.pdist(R.T, metric='cosine'))\n",
    "D=np.abs(np.nan_to_num( D-1)) #dist to similarity \n",
    "np.fill_diagonal(D,0) #set self-dist to zero"
   ]
  },
  {
   "cell_type": "markdown",
   "metadata": {},
   "source": [
    "## 4.1 Alternative Distance Measures\n",
    "Implement a different distance measure, e.g. eucledian and compare the ressults."
   ]
  },
  {
   "cell_type": "code",
   "execution_count": 16,
   "metadata": {},
   "outputs": [],
   "source": [
    "import scipy.spatial\n",
    "#PDist m(Zeilen)*n(Spalten) Matrix R= m(User), n(Movies); R.T= m(Movies) n(user)\n",
    "#Sonst würde man bei der Distanz berechnung zwischen den selben Movie \n",
    "#Die Squarform: Jede Zeile (Movie) in R wird seq. mit den anderen Zeilen dist berechnet.\n",
    "#Zeil0 mit Zeile0 (sich selbst) ergibt in eD(Zeile00); Z0 mit Z1 ergibt eD(Z01) usw.\n",
    "eD = scipy.spatial.distance.squareform(scipy.spatial.distance.pdist(R.T,metric='euclidean'))\n",
    "#Da Cos(0)=1 Ähnlich. ändern wir die ausgabe. Alles -1 -> Dann ist alles null Ähnlich. Mit Abs machen wir dann Positiv\n",
    "#Heißt alles was jetzt von Null wegläuft ist weniger ähnlich.\n",
    "# Das selbe muss bei Euklid gemacht werden. Hier ist bereits 0 Ähnlich. Aber wir wissen keine Information über ähnlichkeit\n",
    "# Nehmen Das Max entfernte Distanz und subtrahieren es überall. Dadurch das am weitesen entfernte objekt 0\n",
    "# das am nächsten die größte Zahl. \n",
    "eD= np.abs(np.nan_to_num(eD-np.max(eD)))\n",
    "# Diag voll mit Hoher Zahl, da sich selbs wieder auf null hauen.\n",
    "np.fill_diagonal(eD,0)# CosDist: 1 Ähnlich Euklid: 0 Ähnlich\n"
   ]
  },
  {
   "cell_type": "code",
   "execution_count": 17,
   "metadata": {},
   "outputs": [],
   "source": [
    "from sklearn.model_selection import train_test_split\n",
    "R_train, R_test = train_test_split(R, test_size=0.1)\n",
    "D_train=scipy.spatial.distance.squareform(scipy.spatial.distance.pdist(R_train.T, metric='cosine'))\n",
    "eD_train=scipy.spatial.distance.squareform(scipy.spatial.distance.pdist(R_train.T, metric='euclidean'))\n",
    "# Numpy rechnung 1-CosD -> Die 1 rausbekommen. Dann wieder 1 Ähnlich 0 nicht ähnlich aber diag wieder null setzten!\n",
    "D_train=np.abs(np.nan_to_num( D_train-1))\n",
    "eD_train=np.abs(np.nan_to_num( eD_train-eD_train.max()))\n",
    "np.fill_diagonal(D_train,0)\n",
    "np.fill_diagonal(eD_train,0)"
   ]
  },
  {
   "cell_type": "code",
   "execution_count": 18,
   "metadata": {},
   "outputs": [
    {
     "data": {
      "image/png": "[encoded data removed]",
      "text/plain": [
       "<Figure size 864x288 with 2 Axes>"
      ]
     },
     "metadata": {
      "needs_background": "light"
     },
     "output_type": "display_data"
    }
   ],
   "source": [
    "test_resultD = test_Score(D_train, R_test)\n",
    "test_resulteD = test_Score(eD_train, R_test)\n",
    "\n",
    "fig=plt.figure(figsize=(12, 4))\n",
    "ax1=fig.add_subplot(1, 2, 1)\n",
    "ax1.title.set_text('cos')\n",
    "plt.hist(test_resultD)\n",
    "ax2= fig.add_subplot(1, 2, 2)\n",
    "ax2.title.set_text('euclidean')\n",
    "plt.hist(test_resulteD)\n",
    "plt.show()"
   ]
  },
  {
   "cell_type": "code",
   "execution_count": 19,
   "metadata": {},
   "outputs": [
    {
     "name": "stdout",
     "output_type": "stream",
     "text": [
      "Cos: 2.2698947368421054\n",
      "Euclidean: 1.2892631578947367\n"
     ]
    }
   ],
   "source": [
    "print('Cos:', np.mean(test_resultD))\n",
    "print('Euclidean:', np.mean(test_resulteD))"
   ]
  },
  {
   "cell_type": "markdown",
   "metadata": {},
   "source": [
    "## 4.2 Baseline Results\n",
    "Implement and compare results of\n",
    "* random recommendations\n",
    "* allways recommending the top 5 movies (over all users)"
   ]
  },
  {
   "cell_type": "code",
   "execution_count": 64,
   "metadata": {},
   "outputs": [],
   "source": [
    "def getBest5(D):\n",
    "    #summiere alle Ratings eines Films\n",
    "    sumRatings = np.sum(D,axis=0)\n",
    "    #Sotiere aufsteigend die Filme nach sumRatings\n",
    "    return np.argsort(sumRatings)[-5:] \n",
    "\n",
    "def getRand5(D):\n",
    "    return np.random.randint(np.shape(D)[0], size=5)\n",
    "\n",
    "# re implement  eval functions to allow different rankings\n",
    "def Score_byID(ID, D, Test, f): #f ist the ranking function\n",
    "    #print (\"Hit Scores for: \", getNameByID(ID))\n",
    "    res_id = f(ID,D)[::-1]\n",
    "    res_title = getNameByID(f(ID,D))[::-1]\n",
    "    res_score = Test[res_id]\n",
    "    return res_id, res_title, res_score, np.mean(res_score)\n",
    "    \n",
    "#compute scores for all test users\n",
    "def test_Score(D_train, R_test,f = getTopN): #f ist the ranking function -> function as argument Falls kein argument defaul getTopN\n",
    "    userScores=[]\n",
    "    for i in range(R_test.shape[0]):\n",
    "        userScore=0\n",
    "        userTop = np.argsort(R_test[i])[-5:]\n",
    "        for e in userTop:\n",
    "            res_id, res_title, res_score, av_score = Score_byID(e,D_train, R_test[i],f)\n",
    "            userScore+=av_score\n",
    "        userScores.append(userScore/(5))\n",
    "    return userScores"
   ]
  },
  {
   "cell_type": "code",
   "execution_count": 51,
   "metadata": {},
   "outputs": [
    {
     "name": "stdout",
     "output_type": "stream",
     "text": [
      "Best of 5: 1.745263157894737\n",
      "Rand of 5: 0.22947368421052633\n",
      "Cos 2.2698947368421054\n"
     ]
    },
    {
     "data": {
      "image/png": "[encoded data removed]",
      "text/plain": [
       "<Figure size 864x288 with 3 Axes>"
      ]
     },
     "metadata": {
      "needs_background": "light"
     },
     "output_type": "display_data"
    }
   ],
   "source": [
    "testResultBest = test_Score(D_train, R_test, getBest5)\n",
    "testResultRand = test_Score(D_train, R_test, getRand5)\n",
    "\n",
    "print('Best of 5:', np.mean(testResultBest))\n",
    "print('Rand of 5:', np.mean(testResultRand))\n",
    "print('Cos', np.mean(test_resultD))\n",
    "\n",
    "fig=plt.figure(figsize=(12, 4))\n",
    "ax1=fig.add_subplot(1, 3, 1)\n",
    "ax1.title.set_text('cos')\n",
    "plt.hist(test_resultD)\n",
    "ax2= fig.add_subplot(1, 3, 2)\n",
    "ax2.title.set_text('random')\n",
    "plt.hist(testResultRand)\n",
    "ax2= fig.add_subplot(1, 3, 3)\n",
    "ax2.title.set_text('Best')\n",
    "plt.hist(testResultBest)\n",
    "plt.show()"
   ]
  },
  {
   "cell_type": "markdown",
   "metadata": {},
   "source": [
    "## 4.3 SVD\n",
    "Implement the SVD approach. Hints: \n",
    "* use numpy.linalg.svd()\n",
    "* apply SVD on $R$\n",
    "* plot the singular values and decide where to cut off the reconstruction\n",
    "* reconstruct R and evaluate $R'$\n",
    "* compute the distance between two movies using $R'$\n"
   ]
  },
  {
   "cell_type": "code",
   "execution_count": 52,
   "metadata": {},
   "outputs": [],
   "source": [
    "u, s, vh = np.linalg.svd(R_train, full_matrices=True)"
   ]
  },
  {
   "cell_type": "code",
   "execution_count": 55,
   "metadata": {},
   "outputs": [
    {
     "data": {
      "text/plain": [
       "((848, 848), (848,), (1682, 1682))"
      ]
     },
     "execution_count": 55,
     "metadata": {},
     "output_type": "execute_result"
    }
   ],
   "source": [
    "u.shape, s.shape, vh.shape"
   ]
  },
  {
   "cell_type": "code",
   "execution_count": 56,
   "metadata": {},
   "outputs": [
    {
     "data": {
      "text/plain": [
       "[<matplotlib.lines.Line2D at 0x2b5a615d3c8>]"
      ]
     },
     "execution_count": 56,
     "metadata": {},
     "output_type": "execute_result"
    },
    {
     "data": {
      "image/png": "[encoded data removed]",
      "text/plain": [
       "<Figure size 432x288 with 1 Axes>"
      ]
     },
     "metadata": {
      "needs_background": "light"
     },
     "output_type": "display_data"
    }
   ],
   "source": [
    "plt.plot(s)"
   ]
  },
  {
   "cell_type": "code",
   "execution_count": 59,
   "metadata": {},
   "outputs": [
    {
     "data": {
      "text/plain": [
       "True"
      ]
     },
     "execution_count": 59,
     "metadata": {},
     "output_type": "execute_result"
    }
   ],
   "source": [
    "np.allclose(R_train, np.dot(u * s, vh[:848,:]))"
   ]
  },
  {
   "cell_type": "code",
   "execution_count": 60,
   "metadata": {},
   "outputs": [],
   "source": [
    "cut = 10 #select how many dims we want to keep\n",
    "R_approx = np.dot(u[:,:cut] * s[:cut], vh[:cut,:])"
   ]
  },
  {
   "cell_type": "code",
   "execution_count": 61,
   "metadata": {},
   "outputs": [],
   "source": [
    "D=scipy.spatial.distance.squareform(scipy.spatial.distance.pdist(R_train.T, metric='cosine'))\n",
    "D=np.abs(np.nan_to_num( D-1)) #dist to similarity \n",
    "np.fill_diagonal(D,0) #set self-dist to zero\n",
    "\n",
    "D_approx=scipy.spatial.distance.squareform(scipy.spatial.distance.pdist(R_approx.T, metric='cosine'))\n",
    "D_approx=np.abs(np.nan_to_num( D_approx-1)) #dist to similarity \n",
    "np.fill_diagonal(D_approx,0) #set self-dist to zero"
   ]
  },
  {
   "cell_type": "code",
   "execution_count": 65,
   "metadata": {},
   "outputs": [],
   "source": [
    "test_approx=test_Score(D_approx,R_test)"
   ]
  },
  {
   "cell_type": "code",
   "execution_count": 67,
   "metadata": {},
   "outputs": [
    {
     "name": "stdout",
     "output_type": "stream",
     "text": [
      "Mean scores on test: full cos: 2.2698947368421054 approx cos: 1.711578947368421\n"
     ]
    }
   ],
   "source": [
    "print(\"Mean scores on test: full cos:\",np.mean(test_resultD), \"approx cos:\",np.mean(test_approx))"
   ]
  },
  {
   "cell_type": "code",
   "execution_count": 69,
   "metadata": {},
   "outputs": [
    {
     "data": {
      "text/plain": [
       "(array([ 6., 15., 18., 20.,  9., 14.,  4.,  5.,  3.,  1.]),\n",
       " array([0.   , 0.452, 0.904, 1.356, 1.808, 2.26 , 2.712, 3.164, 3.616,\n",
       "        4.068, 4.52 ]),\n",
       " <a list of 10 Patch objects>)"
      ]
     },
     "execution_count": 69,
     "metadata": {},
     "output_type": "execute_result"
    },
    {
     "data": {
      "image/png": "[encoded data removed]",
      "text/plain": [
       "<Figure size 864x288 with 2 Axes>"
      ]
     },
     "metadata": {
      "needs_background": "light"
     },
     "output_type": "display_data"
    }
   ],
   "source": [
    "fig=plt.figure(figsize=(12, 4))\n",
    "ax1=fig.add_subplot(1, 2, 1)\n",
    "ax1.title.set_text('cos')\n",
    "plt.hist(test_resultD)\n",
    "ax2= fig.add_subplot(1, 2, 2)\n",
    "ax2.title.set_text('approx cos')\n",
    "plt.hist(test_approx)"
   ]
  },
  {
   "cell_type": "code",
   "execution_count": null,
   "metadata": {},
   "outputs": [],
   "source": []
  }
 ],
 "metadata": {
  "kernelspec": {
   "display_name": "Python 3",
   "language": "python",
   "name": "python3"
  },
  "language_info": {
   "codemirror_mode": {
    "name": "ipython",
    "version": 3
   },
   "file_extension": ".py",
   "mimetype": "text/x-python",
   "name": "python",
   "nbconvert_exporter": "python",
   "pygments_lexer": "ipython3",
   "version": "3.7.6"
  }
 },
 "nbformat": 4,
 "nbformat_minor": 4
}
