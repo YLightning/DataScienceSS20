{
  "nbformat": 4,
  "nbformat_minor": 0,
  "metadata": {
    "colab": {
      "name": "Exercise_2 .ipynb",
      "provenance": []
    },
    "kernelspec": {
      "display_name": "Python 3",
      "language": "python",
      "name": "python3"
    },
    "language_info": {
      "codemirror_mode": {
        "name": "ipython",
        "version": 3
      },
      "file_extension": ".py",
      "mimetype": "text/x-python",
      "name": "python",
      "nbconvert_exporter": "python",
      "pygments_lexer": "ipython3",
      "version": "3.7.6"
    }
  },
  "cells": [
    {
      "cell_type": "markdown",
      "metadata": {
        "colab_type": "text",
        "id": "9qYJcxpwEyxC"
      },
      "source": [
        ""
      ]
    },
    {
      "cell_type": "markdown",
      "metadata": {
        "colab_type": "text",
        "id": "NgYV9F8IE2L_"
      },
      "source": [
        "# Exercise 2 - Image Classification with CNNs\n",
        "![CIFAR10](https://miro.medium.com/max/964/1*syyml8q8s1Yt-iEea5m1Ag.png)\n",
        "\n",
        "[CIFAR 10](https://www.cs.toronto.edu/~kriz/cifar.html) is a small toy data set for image classifaction. \n",
        "\n",
        "* It has 60k images from ten diffenrent classes (like car, airplane, horse,..)\n",
        "* The RGB images are of size 32x32 pixels  "
      ]
    },
    {
      "cell_type": "code",
      "metadata": {
        "colab_type": "code",
        "id": "GiDFXXcUEy-G",
        "colab": {
          "base_uri": "https://localhost:8080/",
          "height": 126
        },
        "outputId": "e0726d93-031c-46e3-bdef-0f283c1428f0"
      },
      "source": [
        "#import needed libs\n",
        "from __future__ import print_function\n",
        "import keras\n",
        "from keras.datasets import cifar10\n",
        "from keras.preprocessing.image import ImageDataGenerator\n",
        "from keras.models import Sequential\n",
        "from keras.layers import Dense, Dropout, Activation, Flatten\n",
        "from keras.layers import Conv2D, MaxPooling2D\n",
        "import os\n",
        "\n",
        "#some vars to controll the training -> use them in your code\n",
        "batch_size = 32\n",
        "num_classes = 10 #fixed!\n",
        "epochs = 10\n",
        "\n",
        "# Get the data, split between train and test sets:\n",
        "(x_train, y_train), (x_test, y_test) = cifar10.load_data()\n",
        "print('x_train shape:', x_train.shape)\n",
        "print(x_train.shape[0], 'train samples')\n",
        "print(x_test.shape[0], 'test samples')\n",
        "\n",
        "# Convert class vectors to binary class matrices.\n",
        "y_train = keras.utils.to_categorical(y_train, num_classes)\n",
        "y_test = keras.utils.to_categorical(y_test, num_classes)"
      ],
      "execution_count": 1,
      "outputs": [
        {
          "output_type": "stream",
          "text": [
            "Using TensorFlow backend.\n"
          ],
          "name": "stderr"
        },
        {
          "output_type": "stream",
          "text": [
            "Downloading data from https://www.cs.toronto.edu/~kriz/cifar-10-python.tar.gz\n",
            "170500096/170498071 [==============================] - 3s 0us/step\n",
            "x_train shape: (50000, 32, 32, 3)\n",
            "50000 train samples\n",
            "10000 test samples\n"
          ],
          "name": "stdout"
        }
      ]
    },
    {
      "cell_type": "markdown",
      "metadata": {
        "colab_type": "text",
        "id": "vmocaCkIGOIR"
      },
      "source": [
        "## Task:\n",
        "* build and train the ***AlexNet*** CNN architecture from the lecture\n",
        "* use 'relu' functions for the non-linear activation\n",
        "* optimize the learning hyper-paramters to get the best  test accuracy"
      ]
    },
    {
      "cell_type": "code",
      "metadata": {
        "colab_type": "code",
        "id": "9p5AD8mJEzmL",
        "colab": {}
      },
      "source": [
        "# AlexNet lecture _ Conv1 (maxnorm),2 (maxnorm),3,4,5(max) fc5 7 (full)\n",
        "#Keras model architecture - sequential model, meaning the output of each layer \n",
        "#is passed directly into the next one\n",
        "model_AlexNet = Sequential()\n",
        "\n",
        "# convolutional (Faltung) layer - Die Filter Funktion. Musterverlgeich\n",
        "# The arguments to the \n",
        "# Conv2D() function determine how many features will be extracted\n",
        "# The first argument determines how many filters the layer will have. 32\n",
        "# The second argument Initializers  - define the way to set the initial \n",
        "# random weights of Keras layers.\n",
        "# The third argument to Conv2D() is where we provide \n",
        "# the dimensions of this window. \n",
        "# The padding argument determines how the window will be moved across the data.\n",
        "# ensure the height and width of the output feature maps matches the inputs.\n",
        "# 'same' layer output with same length\n",
        "#  convolutional layers with small 3×3 filters followed by a max pooling layer.\n",
        "# layers form a block, and these blocks can be repeated where the number of\n",
        "# filters in each block is increased with the depth of the network \n",
        "# such as 32, 64, 128, 256 for the first four blocks of the model.\n",
        "# 32 Filter and Window size 3,3\n",
        "model_AlexNet.add(Conv2D(32, (3, 3), activation='relu', \n",
        "                         kernel_initializer='he_uniform', padding='same', \n",
        "                         input_shape=(32, 32, 3)))\n",
        "model_AlexNet.add(Conv2D(32, (3, 3), activation='relu', \n",
        "                         kernel_initializer='he_uniform', padding='same'))\n",
        "# MaxPool2D layer takes the output of the previous layer, and shrinks it down\n",
        "# It does this by looking at a window of input data and then selecting the\n",
        "# largest value in the window and propagating only that value to the output.\n",
        "# Argument 2*2 Window, by default moves window so that it contains entirely new\n",
        "# data\n",
        "model_AlexNet.add(MaxPooling2D((2, 2)))\n",
        "# The Dropout layer randomly sets some of a tensor’s values to zero during \n",
        "# training. In this case, by calling Dropout(0.1), we set 10% of the values \n",
        "# to zero, entirely obliterating that data. Dropout is a regularization \n",
        "# technique. Dropout is a simple but effective way to limit overfitting.\n",
        "model_AlexNet.add(Dropout(0.1))\n",
        "\n",
        "model_AlexNet.add(Conv2D(64, (3, 3), activation='relu',\n",
        "                         kernel_initializer='he_uniform', padding='same'))\n",
        "model_AlexNet.add(Conv2D(64, (3, 3), activation='relu',\n",
        "                         kernel_initializer='he_uniform', padding='same'))\n",
        "model_AlexNet.add(MaxPooling2D((2, 2)))\n",
        "model_AlexNet.add(Dropout(0.1))\n",
        "\n",
        "# because we now have high-level representations of the major features \n",
        "# contained within our input, we can “zoom out” and study them in aggregate. \n",
        "# To do so, we flatten our data and feed it into a Dense layer (also known \n",
        "# as a fully connected layer):\n",
        "\n",
        "model_AlexNet.add(Flatten())\n",
        "model_AlexNet.add(Dense(128, activation='relu', \n",
        "                        kernel_initializer='he_uniform'))\n",
        "\n",
        "# The layer is configured with a \"softmax\" activation function, \n",
        "# which results in the layer’s output being a set of probabilities that sum to 1\n",
        "model_AlexNet.add(Dense(num_classes, activation='softmax'))\n"
      ],
      "execution_count": 3,
      "outputs": []
    },
    {
      "cell_type": "code",
      "metadata": {
        "id": "LByJdA6-ykPO",
        "colab_type": "code",
        "colab": {}
      },
      "source": [
        "from keras.optimizers import SGD\n",
        "# modest learning rate of 0.001 and a large momentum of 0.9\n",
        "# With a high learning rate, the weights and biases are adjusted more with each \n",
        "# iteration, meaning convergence happens fast. However, these big jumps mean \n",
        "# that it’s more difficult to get to the ideal values because we might \n",
        "# keep jumping past them.\n",
        "# compile model\n",
        "opt = SGD(lr=0.001, momentum=0.9)\n",
        "# The metrics argument allows us to specify some additional functions that \n",
        "# are used to judge the performance of our model.\n",
        "# Cross-entropy will calculate a score that summarizes the average difference \n",
        "# between the actual and predicted probability distributions for all \n",
        "# classes in the problem. The score is minimized and a perfect cross-entropy \n",
        "# value is 0.\n",
        "model_AlexNet.compile(optimizer=opt, loss='categorical_crossentropy', \n",
        "              metrics=['accuracy'])"
      ],
      "execution_count": 6,
      "outputs": []
    },
    {
      "cell_type": "code",
      "metadata": {
        "id": "2tbnC-uZ0kJq",
        "colab_type": "code",
        "colab": {
          "base_uri": "https://localhost:8080/",
          "height": 563
        },
        "outputId": "56877167-53d6-48eb-b864-bc5dedc9ee8a"
      },
      "source": [
        "model_AlexNet.summary()\n"
      ],
      "execution_count": 8,
      "outputs": [
        {
          "output_type": "stream",
          "text": [
            "Model: \"sequential_1\"\n",
            "_________________________________________________________________\n",
            "Layer (type)                 Output Shape              Param #   \n",
            "=================================================================\n",
            "conv2d_1 (Conv2D)            (None, 32, 32, 32)        896       \n",
            "_________________________________________________________________\n",
            "conv2d_2 (Conv2D)            (None, 32, 32, 32)        9248      \n",
            "_________________________________________________________________\n",
            "max_pooling2d_1 (MaxPooling2 (None, 16, 16, 32)        0         \n",
            "_________________________________________________________________\n",
            "dropout_1 (Dropout)          (None, 16, 16, 32)        0         \n",
            "_________________________________________________________________\n",
            "conv2d_3 (Conv2D)            (None, 16, 16, 64)        18496     \n",
            "_________________________________________________________________\n",
            "conv2d_4 (Conv2D)            (None, 16, 16, 64)        36928     \n",
            "_________________________________________________________________\n",
            "max_pooling2d_2 (MaxPooling2 (None, 8, 8, 64)          0         \n",
            "_________________________________________________________________\n",
            "dropout_2 (Dropout)          (None, 8, 8, 64)          0         \n",
            "_________________________________________________________________\n",
            "flatten_1 (Flatten)          (None, 4096)              0         \n",
            "_________________________________________________________________\n",
            "dense_1 (Dense)              (None, 128)               524416    \n",
            "_________________________________________________________________\n",
            "dense_2 (Dense)              (None, 10)                1290      \n",
            "=================================================================\n",
            "Total params: 591,274\n",
            "Trainable params: 591,274\n",
            "Non-trainable params: 0\n",
            "_________________________________________________________________\n"
          ],
          "name": "stdout"
        }
      ]
    },
    {
      "cell_type": "code",
      "metadata": {
        "id": "qXOHseFn04Ym",
        "colab_type": "code",
        "colab": {}
      },
      "source": [
        "# scale pixels\n",
        "# convert from integers to floats\n",
        "train_norm= x_train.astype('float32')\n",
        "test_norm= x_test.astype('float32')\n",
        "# normalize to range \n",
        "train_norm = train_norm/255.0\n",
        "test_norm = test_norm/255.0 "
      ],
      "execution_count": 9,
      "outputs": []
    },
    {
      "cell_type": "code",
      "metadata": {
        "id": "wOyeiMAn15pW",
        "colab_type": "code",
        "colab": {
          "base_uri": "https://localhost:8080/",
          "height": 399
        },
        "outputId": "1dfc1cf1-a5d7-4809-9a50-2e047d630e42"
      },
      "source": [
        "history_AlexNet = model_AlexNet.fit(train_norm, y_train, epochs=epochs, batch_size=batch_size,  validation_data=(test_norm,y_test))"
      ],
      "execution_count": 10,
      "outputs": [
        {
          "output_type": "stream",
          "text": [
            "Train on 50000 samples, validate on 10000 samples\n",
            "Epoch 1/10\n",
            "50000/50000 [==============================] - 275s 5ms/step - loss: 1.6449 - accuracy: 0.4051 - val_loss: 1.3769 - val_accuracy: 0.5115\n",
            "Epoch 2/10\n",
            "50000/50000 [==============================] - 274s 5ms/step - loss: 1.2705 - accuracy: 0.5448 - val_loss: 1.1766 - val_accuracy: 0.5796\n",
            "Epoch 3/10\n",
            "50000/50000 [==============================] - 274s 5ms/step - loss: 1.0978 - accuracy: 0.6125 - val_loss: 1.0223 - val_accuracy: 0.6309\n",
            "Epoch 4/10\n",
            "50000/50000 [==============================] - 275s 6ms/step - loss: 0.9762 - accuracy: 0.6554 - val_loss: 0.9535 - val_accuracy: 0.6644\n",
            "Epoch 5/10\n",
            "50000/50000 [==============================] - 275s 5ms/step - loss: 0.8935 - accuracy: 0.6868 - val_loss: 0.8830 - val_accuracy: 0.6889\n",
            "Epoch 6/10\n",
            "50000/50000 [==============================] - 274s 5ms/step - loss: 0.8257 - accuracy: 0.7101 - val_loss: 0.8297 - val_accuracy: 0.7108\n",
            "Epoch 7/10\n",
            "50000/50000 [==============================] - 273s 5ms/step - loss: 0.7678 - accuracy: 0.7337 - val_loss: 0.8182 - val_accuracy: 0.7169\n",
            "Epoch 8/10\n",
            "50000/50000 [==============================] - 274s 5ms/step - loss: 0.7171 - accuracy: 0.7510 - val_loss: 0.7807 - val_accuracy: 0.7272\n",
            "Epoch 9/10\n",
            "50000/50000 [==============================] - 275s 6ms/step - loss: 0.6670 - accuracy: 0.7660 - val_loss: 0.7761 - val_accuracy: 0.7313\n",
            "Epoch 10/10\n",
            "50000/50000 [==============================] - 275s 5ms/step - loss: 0.6190 - accuracy: 0.7845 - val_loss: 0.7684 - val_accuracy: 0.7357\n"
          ],
          "name": "stdout"
        }
      ]
    },
    {
      "cell_type": "code",
      "metadata": {
        "id": "aA-KCNW03bZ4",
        "colab_type": "code",
        "colab": {
          "base_uri": "https://localhost:8080/",
          "height": 313
        },
        "outputId": "55bfaebf-1481-411f-d7e6-85223bafd4c2"
      },
      "source": [
        "import matplotlib.pyplot as plt\n",
        "plt.subplot(211)\n",
        "plt.title('Cross Entropy Loss')\n",
        "plt.plot(history_AlexNet.history['loss'], color='blue', label='train')\n",
        "plt.plot(history_AlexNet.history['val_loss'], color='orange', label='test')\n",
        "plt.xlabel('Epochs')\n",
        "# plot accuracy\n",
        "plt.subplot(212)\n",
        "plt.title('Classification Accuracy')\n",
        "plt.plot(history_AlexNet.history['accuracy'], color='blue', label='train')\n",
        "plt.plot(history_AlexNet.history['val_accuracy'], color='orange', \n",
        "             label='test')\n",
        "plt.xlabel('Epochs')"
      ],
      "execution_count": 25,
      "outputs": [
        {
          "output_type": "execute_result",
          "data": {
            "text/plain": [
              "Text(0.5, 0, 'Epochs')"
            ]
          },
          "metadata": {
            "tags": []
          },
          "execution_count": 25
        },
        {
          "output_type": "display_data",
          "data": {
            "image/png": "[encoded data removed]",
            "text/plain": [
              "<Figure size 432x288 with 2 Axes>"
            ]
          },
          "metadata": {
            "tags": [],
            "needs_background": "light"
          }
        }
      ]
    },
    {
      "cell_type": "markdown",
      "metadata": {
        "id": "0EkxUd_qD2uv",
        "colab_type": "text"
      },
      "source": [
        "Knapp ab Epochs 5 tritt overfitting ein.\n"
      ]
    },
    {
      "cell_type": "code",
      "metadata": {
        "id": "-wKqCUag44oM",
        "colab_type": "code",
        "colab": {}
      },
      "source": [
        ""
      ],
      "execution_count": null,
      "outputs": []
    }
  ]
}